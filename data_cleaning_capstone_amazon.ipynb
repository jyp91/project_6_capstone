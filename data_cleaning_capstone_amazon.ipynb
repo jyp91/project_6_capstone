{
 "cells": [
  {
   "cell_type": "markdown",
   "metadata": {},
   "source": [
    "# Capstone Project: Predict Amazon Book Review Rating \n",
    "### Data Cleaning\n",
    "\n",
    "_By: Jin Park_\n",
    "\n",
    "---\n",
    "### Objectives\n",
    " \n",
    "- The overall goal of this project is to predict the Amazon book rating based on the Amazon customer's book reviews.\n",
    "- The first step of this project is to clean the dataset to prepare for EDA process to understand the dataset structures and patterns.\n",
    "- Web Scrape Amazon.com to gather book categories.\n",
    "- Use nltk Stopwords to clean text data.\n",
    "\n",
    "---\n",
    "### Project Guide (Data Cleaning)\n",
    "- [Get Book Categories by Web-Scraping the Amazon.com With Selenium](#Get Book Categories by Web-Scraping the Amazon.com With Selenium)\n",
    "- [Imports](#Imports)\n",
    "- [Data Cleaning](#Data Cleaning)\n",
    "- [Clean Text Data Using Stopwords ](#Clean Text Data Using Stopwords )\n",
    "- [Save Cleaned Data for EDA](#Save Cleaned Data for EDA)\n"
   ]
  },
  {
   "cell_type": "code",
   "execution_count": 1,
   "metadata": {
    "collapsed": true
   },
   "outputs": [],
   "source": [
    "# import gzip\n",
    "# import pandas as pd\n",
    "# def parse(path):\n",
    "#   g = gzip.open(path, 'rb')\n",
    "#   for l in g:\n",
    "#     yield eval(l)\n",
    "\n",
    "# def getDF(path):\n",
    "#   i = 0\n",
    "#   df = {}\n",
    "#   for d in parse(path):\n",
    "#     df[i] = d\n",
    "#     i += 1\n",
    "#   return pd.DataFrame.from_dict(df, orient='index')\n",
    "\n",
    "# df = getDF('./data/reviews_Books_5.json.gz')\n",
    "# df = pd.read_csv('data/amazon_book.csv')\n",
    "# sample = df.sample(frac=0.001)\n",
    "# sample.to_csv('data/amazon_sample.csv', index=False)"
   ]
  },
  {
   "cell_type": "markdown",
   "metadata": {},
   "source": [
    "Dataset was obtained from http://jmcauley.ucsd.edu/data/amazon/ which contains book reviews and metadata from Amazon from May 1996 - July 2014.\n",
    "\n",
    "The compressed data size is  4GB and 9GB after decompressing the dataset. The overall size of the dataset is too large for any personal laptop computer to process since the dataset contains lots of text data to process. To override the problem, renting a cloud computing service from Amazon Web Service (AWS) was a one option. However, due to personal budget and lack of resource, EC2 size m5.2xlarge was the only option to rent with enough computing power. After testing the performance of the EC2 by creating many different subset data (10%, 5%, and 1%), EC2 instance did not perform any better than the laptop. Also, its small storage space was another issue. Therefore, the only viable option was to create a subset dataset below 1% which still contains enough data to work with."
   ]
  },
  {
   "cell_type": "markdown",
   "metadata": {},
   "source": [
    "<a id='Get Book Categories by Web-Scraping the Amazon.com With Selenium'></a>\n",
    "# Get Book Categories by Web-Scraping the Amazon.com With Selenium\n",
    "The column ASIN contains an Amazon Standard Identification Number, 10-character alphanumeric unique identifier assigned by Amazon.com and its partners for product identification within the Amazon organization. Feature engineering was performed by converting the asin number to book categories by using the Selenium to build a web-scraper that crawls into Amazon.com to collect book categories by the asin number."
   ]
  },
  {
   "cell_type": "code",
   "execution_count": 1,
   "metadata": {
    "collapsed": true
   },
   "outputs": [],
   "source": [
    "import time\n",
    "import pandas as pd\n",
    "from selenium import webdriver\n",
    "from selenium.webdriver.common.keys import Keys\n",
    "from selenium.webdriver.chrome.options import Options"
   ]
  },
  {
   "cell_type": "code",
   "execution_count": 2,
   "metadata": {
    "collapsed": true
   },
   "outputs": [],
   "source": [
    "# Load sample data\n",
    "amazon = pd.read_csv('data/amazon_sample.csv')"
   ]
  },
  {
   "cell_type": "code",
   "execution_count": 3,
   "metadata": {
    "collapsed": true
   },
   "outputs": [],
   "source": [
    "asin = amazon['asin']"
   ]
  },
  {
   "cell_type": "code",
   "execution_count": 4,
   "metadata": {},
   "outputs": [
    {
     "name": "stdout",
     "output_type": "stream",
     "text": [
      "CPU times: user 11.8 s, sys: 777 ms, total: 12.6 s\n",
      "Wall time: 1h 45min 18s\n"
     ]
    }
   ],
   "source": [
    "%%time\n",
    "# Set driver and chrome driver path\n",
    "chrome_path = r\"/Users/jinpark/Desktop/chromedriver_mac/chromedriver\"\n",
    "driver = webdriver.Chrome(chrome_path)\n",
    "\n",
    "# Url that I will access to scrape\n",
    "book_categories_list = []\n",
    "for i in asin:\n",
    "    try:\n",
    "        url = u\"https://www.amazon.com/s/ref=nb_sb_noss?url=search-alias%3Dstripbooks&field-keywords=\"+str(i)\n",
    "        driver.get(url)\n",
    "        #time.sleep(1)\n",
    "        books = driver.find_element_by_class_name('a-expander-container') \n",
    "        book_categories_list.append(books.text)\n",
    "    except:\n",
    "        book_categories_list.append('unknown') "
   ]
  },
  {
   "cell_type": "code",
   "execution_count": 5,
   "metadata": {
    "collapsed": true
   },
   "outputs": [],
   "source": [
    "amazon['book_categories'] = book_categories_list"
   ]
  },
  {
   "cell_type": "code",
   "execution_count": 6,
   "metadata": {
    "collapsed": true
   },
   "outputs": [],
   "source": [
    "new_book_categories = []\n",
    "for i in amazon['book_categories']:\n",
    "    new_book_categories.append(i.split('\\n')[0])"
   ]
  },
  {
   "cell_type": "code",
   "execution_count": 7,
   "metadata": {
    "collapsed": true
   },
   "outputs": [],
   "source": [
    "amazon['book_category'] = new_book_categories"
   ]
  },
  {
   "cell_type": "code",
   "execution_count": 8,
   "metadata": {
    "collapsed": true
   },
   "outputs": [],
   "source": [
    "amazon.drop(['book_categories', 'asin'], axis=1, inplace=True)"
   ]
  },
  {
   "cell_type": "code",
   "execution_count": 9,
   "metadata": {
    "collapsed": true
   },
   "outputs": [],
   "source": [
    "# Save the scraped data.\n",
    "amazon.to_csv('data/amazon_sample.csv', index=False)"
   ]
  },
  {
   "cell_type": "code",
   "execution_count": 10,
   "metadata": {},
   "outputs": [
    {
     "data": {
      "text/html": [
       "<div>\n",
       "<style scoped>\n",
       "    .dataframe tbody tr th:only-of-type {\n",
       "        vertical-align: middle;\n",
       "    }\n",
       "\n",
       "    .dataframe tbody tr th {\n",
       "        vertical-align: top;\n",
       "    }\n",
       "\n",
       "    .dataframe thead th {\n",
       "        text-align: right;\n",
       "    }\n",
       "</style>\n",
       "<table border=\"1\" class=\"dataframe\">\n",
       "  <thead>\n",
       "    <tr style=\"text-align: right;\">\n",
       "      <th></th>\n",
       "      <th>reviewerID</th>\n",
       "      <th>reviewerName</th>\n",
       "      <th>helpful</th>\n",
       "      <th>reviewText</th>\n",
       "      <th>overall</th>\n",
       "      <th>summary</th>\n",
       "      <th>unixReviewTime</th>\n",
       "      <th>reviewTime</th>\n",
       "      <th>book_category</th>\n",
       "    </tr>\n",
       "  </thead>\n",
       "  <tbody>\n",
       "    <tr>\n",
       "      <th>0</th>\n",
       "      <td>A3SHA4Y9DHEK39</td>\n",
       "      <td>Chad Oberholtzer</td>\n",
       "      <td>[10, 11]</td>\n",
       "      <td>We live in a church culture where holiness is ...</td>\n",
       "      <td>5.0</td>\n",
       "      <td>This is a great one...</td>\n",
       "      <td>1137542400</td>\n",
       "      <td>01 18, 2006</td>\n",
       "      <td>Christian Books &amp; Bibles</td>\n",
       "    </tr>\n",
       "    <tr>\n",
       "      <th>1</th>\n",
       "      <td>A11M98R135HMSY</td>\n",
       "      <td>Paul Skinner</td>\n",
       "      <td>[2, 2]</td>\n",
       "      <td>I have read most of Philip Craig's books, and ...</td>\n",
       "      <td>5.0</td>\n",
       "      <td>the begining of a beautiful relationship</td>\n",
       "      <td>1205625600</td>\n",
       "      <td>03 16, 2008</td>\n",
       "      <td>Mystery, Thriller &amp; Suspense</td>\n",
       "    </tr>\n",
       "    <tr>\n",
       "      <th>2</th>\n",
       "      <td>AD20B29YQDZYQ</td>\n",
       "      <td>Amazon Customer</td>\n",
       "      <td>[0, 0]</td>\n",
       "      <td>The storyline was good.  It was the reason I f...</td>\n",
       "      <td>2.0</td>\n",
       "      <td>Just ok</td>\n",
       "      <td>1361836800</td>\n",
       "      <td>02 26, 2013</td>\n",
       "      <td>Literature &amp; Fiction</td>\n",
       "    </tr>\n",
       "    <tr>\n",
       "      <th>3</th>\n",
       "      <td>AZR6CYHTQ9TL</td>\n",
       "      <td>Inez</td>\n",
       "      <td>[1, 1]</td>\n",
       "      <td>I love most apocalypse stories, and this one r...</td>\n",
       "      <td>5.0</td>\n",
       "      <td>Oh, no, bugs everywhere!</td>\n",
       "      <td>1373932800</td>\n",
       "      <td>07 16, 2013</td>\n",
       "      <td>Science Fiction &amp; Fantasy</td>\n",
       "    </tr>\n",
       "    <tr>\n",
       "      <th>4</th>\n",
       "      <td>A14BTJRH9VNLJJ</td>\n",
       "      <td>Kurt A. Johnson</td>\n",
       "      <td>[1, 1]</td>\n",
       "      <td>What is a sociopath? A sociopath is a person w...</td>\n",
       "      <td>4.0</td>\n",
       "      <td>An interesting and thought provoking read</td>\n",
       "      <td>1365897600</td>\n",
       "      <td>04 14, 2013</td>\n",
       "      <td>Biographies &amp; Memoirs</td>\n",
       "    </tr>\n",
       "  </tbody>\n",
       "</table>\n",
       "</div>"
      ],
      "text/plain": [
       "       reviewerID      reviewerName   helpful  \\\n",
       "0  A3SHA4Y9DHEK39  Chad Oberholtzer  [10, 11]   \n",
       "1  A11M98R135HMSY      Paul Skinner    [2, 2]   \n",
       "2   AD20B29YQDZYQ   Amazon Customer    [0, 0]   \n",
       "3    AZR6CYHTQ9TL              Inez    [1, 1]   \n",
       "4  A14BTJRH9VNLJJ   Kurt A. Johnson    [1, 1]   \n",
       "\n",
       "                                          reviewText  overall  \\\n",
       "0  We live in a church culture where holiness is ...      5.0   \n",
       "1  I have read most of Philip Craig's books, and ...      5.0   \n",
       "2  The storyline was good.  It was the reason I f...      2.0   \n",
       "3  I love most apocalypse stories, and this one r...      5.0   \n",
       "4  What is a sociopath? A sociopath is a person w...      4.0   \n",
       "\n",
       "                                     summary  unixReviewTime   reviewTime  \\\n",
       "0                     This is a great one...      1137542400  01 18, 2006   \n",
       "1   the begining of a beautiful relationship      1205625600  03 16, 2008   \n",
       "2                                    Just ok      1361836800  02 26, 2013   \n",
       "3                   Oh, no, bugs everywhere!      1373932800  07 16, 2013   \n",
       "4  An interesting and thought provoking read      1365897600  04 14, 2013   \n",
       "\n",
       "                  book_category  \n",
       "0      Christian Books & Bibles  \n",
       "1  Mystery, Thriller & Suspense  \n",
       "2          Literature & Fiction  \n",
       "3     Science Fiction & Fantasy  \n",
       "4         Biographies & Memoirs  "
      ]
     },
     "execution_count": 10,
     "metadata": {},
     "output_type": "execute_result"
    }
   ],
   "source": [
    "amazon.head()"
   ]
  },
  {
   "cell_type": "markdown",
   "metadata": {},
   "source": [
    "<a id='Imports'></a>\n",
    "## Imports"
   ]
  },
  {
   "cell_type": "code",
   "execution_count": 2,
   "metadata": {
    "collapsed": true
   },
   "outputs": [],
   "source": [
    "import time\n",
    "import string\n",
    "import numpy as np\n",
    "import pandas as pd\n",
    "import seaborn as sns\n",
    "import matplotlib\n",
    "import matplotlib.pyplot as plt\n",
    "%matplotlib inline\n",
    "%config InlineBackend.figure_format = 'retina'\n",
    "\n",
    "from pprint import pprint\n",
    "from ast import literal_eval\n",
    "from collections import Counter\n",
    "from nltk.corpus import stopwords\n",
    "from wordcloud import WordCloud, STOPWORDS"
   ]
  },
  {
   "cell_type": "markdown",
   "metadata": {},
   "source": [
    "<a id='Data Cleaning'></a>\n",
    "## Data Cleaning \n",
    "\n",
    "The data cleaning process was simple. First, by checking the overall dataset information, it is a very useful way to see the dataset size, check missing values, and decide which columns need to be reassigned to different types. The column \"overall\" was converted into integer rather than being in float since it contains the product rating that ranges from 1 to 5. In addition, the column \"reviewTime\" was converted to date-time for a better visual purpose. \n",
    "\n",
    "The column \"helpful\" contains two different data in a tuple inside the list. By using the import literal_eval from ast, this method allows splitting the data into two separate columns into a one single data frame. And, the helpful column was converted into a binary classification, 1 or 0 (helpful and not helpful).  Furthermore, all missing values were dropped since the overall size of the missing data are very small compared to the overall dataset size which will not affect the statistic inference.\n",
    "\n",
    "After the general data cleaning, all columns were renamed and rearranged for personal preference. "
   ]
  },
  {
   "cell_type": "code",
   "execution_count": 3,
   "metadata": {
    "collapsed": true
   },
   "outputs": [],
   "source": [
    "# Load sample data\n",
    "amazon = pd.read_csv('data/amazon_sample.csv')"
   ]
  },
  {
   "cell_type": "code",
   "execution_count": 4,
   "metadata": {},
   "outputs": [
    {
     "data": {
      "text/plain": [
       "0"
      ]
     },
     "execution_count": 4,
     "metadata": {},
     "output_type": "execute_result"
    }
   ],
   "source": [
    "# Check for duplicates\n",
    "amazon.duplicated().sum()"
   ]
  },
  {
   "cell_type": "code",
   "execution_count": 5,
   "metadata": {},
   "outputs": [
    {
     "name": "stdout",
     "output_type": "stream",
     "text": [
      "<class 'pandas.core.frame.DataFrame'>\n",
      "RangeIndex: 8898 entries, 0 to 8897\n",
      "Data columns (total 9 columns):\n",
      "reviewerID        8898 non-null object\n",
      "reviewerName      8876 non-null object\n",
      "helpful           8898 non-null object\n",
      "reviewText        8898 non-null object\n",
      "overall           8898 non-null float64\n",
      "summary           8897 non-null object\n",
      "unixReviewTime    8898 non-null int64\n",
      "reviewTime        8898 non-null object\n",
      "book_category     8835 non-null object\n",
      "dtypes: float64(1), int64(1), object(7)\n",
      "memory usage: 625.7+ KB\n"
     ]
    }
   ],
   "source": [
    "# Column overall needs to be coverted to int and reviewTime needs to be converted into datetime\n",
    "amazon.info()"
   ]
  },
  {
   "cell_type": "code",
   "execution_count": 6,
   "metadata": {
    "collapsed": true
   },
   "outputs": [],
   "source": [
    "# Convert column 'overall' to type interger\n",
    "amazon['overall'] = amazon.overall.astype(int)"
   ]
  },
  {
   "cell_type": "code",
   "execution_count": 7,
   "metadata": {
    "collapsed": true
   },
   "outputs": [],
   "source": [
    "# Convert column 'reviewTime' to datetime\n",
    "amazon['reviewTime'] = pd.to_datetime(amazon.reviewTime)"
   ]
  },
  {
   "cell_type": "code",
   "execution_count": 8,
   "metadata": {
    "collapsed": true
   },
   "outputs": [],
   "source": [
    "# Split column 'helpful' that contains list inside the string to  \n",
    "# two columns 'helpful' and 'not helpful' by making a seperate dataframe\n",
    "helpful_df = pd.DataFrame(amazon['helpful'].map(literal_eval).tolist(),\n",
    "                          columns=['helpful_comment', 'not_helpful_comment'])"
   ]
  },
  {
   "cell_type": "code",
   "execution_count": 9,
   "metadata": {
    "collapsed": true
   },
   "outputs": [],
   "source": [
    "# Concat two dataframe into one\n",
    "amazon = pd.concat([amazon, helpful_df], axis=1)"
   ]
  },
  {
   "cell_type": "code",
   "execution_count": 10,
   "metadata": {
    "collapsed": true
   },
   "outputs": [],
   "source": [
    "# Function that creates helpful comments to binary classification\n",
    "def helpful(df):\n",
    "    helpful_list = []\n",
    "    for h in df['helpful_comment']:\n",
    "        for n in df['not_helpful_comment']:\n",
    "            if h >= n:\n",
    "                helpful_list.append(1)\n",
    "            else:\n",
    "                helpful_list.append(0)\n",
    "        return helpful_list"
   ]
  },
  {
   "cell_type": "code",
   "execution_count": 11,
   "metadata": {
    "collapsed": true
   },
   "outputs": [],
   "source": [
    "# Creating a new column to store the helpful result\n",
    "amazon['helpful'] = helpful(amazon)"
   ]
  },
  {
   "cell_type": "code",
   "execution_count": 12,
   "metadata": {
    "scrolled": false
   },
   "outputs": [
    {
     "data": {
      "text/plain": [
       "reviewerID              0\n",
       "reviewerName           22\n",
       "helpful                 0\n",
       "reviewText              0\n",
       "overall                 0\n",
       "summary                 1\n",
       "unixReviewTime          0\n",
       "reviewTime              0\n",
       "book_category          63\n",
       "helpful_comment         0\n",
       "not_helpful_comment     0\n",
       "dtype: int64"
      ]
     },
     "execution_count": 12,
     "metadata": {},
     "output_type": "execute_result"
    }
   ],
   "source": [
    "# Check for missing values\n",
    "amazon.isnull().sum()"
   ]
  },
  {
   "cell_type": "code",
   "execution_count": 13,
   "metadata": {
    "collapsed": true
   },
   "outputs": [],
   "source": [
    "# Drop all missing data since its small to overall data\n",
    "amazon.dropna(inplace=True)"
   ]
  },
  {
   "cell_type": "code",
   "execution_count": 14,
   "metadata": {},
   "outputs": [
    {
     "name": "stdout",
     "output_type": "stream",
     "text": [
      "<class 'pandas.core.frame.DataFrame'>\n",
      "Int64Index: 8812 entries, 0 to 8897\n",
      "Data columns (total 11 columns):\n",
      "reviewerID             8812 non-null object\n",
      "reviewerName           8812 non-null object\n",
      "helpful                8812 non-null int64\n",
      "reviewText             8812 non-null object\n",
      "overall                8812 non-null int64\n",
      "summary                8812 non-null object\n",
      "unixReviewTime         8812 non-null int64\n",
      "reviewTime             8812 non-null datetime64[ns]\n",
      "book_category          8812 non-null object\n",
      "helpful_comment        8812 non-null int64\n",
      "not_helpful_comment    8812 non-null int64\n",
      "dtypes: datetime64[ns](1), int64(5), object(5)\n",
      "memory usage: 826.1+ KB\n"
     ]
    }
   ],
   "source": [
    "amazon.info()"
   ]
  },
  {
   "cell_type": "code",
   "execution_count": 15,
   "metadata": {
    "collapsed": true
   },
   "outputs": [],
   "source": [
    "# Drop all columns that are useless\n",
    "amazon.drop(['helpful_comment',\n",
    "             'not_helpful_comment',\n",
    "             'unixReviewTime'],\n",
    "            axis=1,\n",
    "            inplace=True)"
   ]
  },
  {
   "cell_type": "code",
   "execution_count": 16,
   "metadata": {},
   "outputs": [
    {
     "data": {
      "text/plain": [
       "Index(['reviewerID', 'reviewerName', 'helpful', 'reviewText', 'overall',\n",
       "       'summary', 'reviewTime', 'book_category'],\n",
       "      dtype='object')"
      ]
     },
     "execution_count": 16,
     "metadata": {},
     "output_type": "execute_result"
    }
   ],
   "source": [
    "amazon.columns"
   ]
  },
  {
   "cell_type": "code",
   "execution_count": 17,
   "metadata": {
    "collapsed": true,
    "scrolled": false
   },
   "outputs": [],
   "source": [
    "# Rename columns \n",
    "new_col = [u'reviewer_id', u'reviewer_name', u'helpful_review', u'review_text',\n",
    "           u'rating', u'review_summary', u'review_date', u'book_category']\n",
    "amazon.columns = new_col"
   ]
  },
  {
   "cell_type": "code",
   "execution_count": 18,
   "metadata": {
    "collapsed": true
   },
   "outputs": [],
   "source": [
    "# Rearrange columns \n",
    "amazon = amazon[['review_date', 'reviewer_id','reviewer_name', 'book_category',\n",
    "                 'review_text', 'review_summary', 'rating', 'helpful_review']]"
   ]
  },
  {
   "cell_type": "code",
   "execution_count": 19,
   "metadata": {},
   "outputs": [
    {
     "data": {
      "text/html": [
       "<div>\n",
       "<style scoped>\n",
       "    .dataframe tbody tr th:only-of-type {\n",
       "        vertical-align: middle;\n",
       "    }\n",
       "\n",
       "    .dataframe tbody tr th {\n",
       "        vertical-align: top;\n",
       "    }\n",
       "\n",
       "    .dataframe thead th {\n",
       "        text-align: right;\n",
       "    }\n",
       "</style>\n",
       "<table border=\"1\" class=\"dataframe\">\n",
       "  <thead>\n",
       "    <tr style=\"text-align: right;\">\n",
       "      <th></th>\n",
       "      <th>review_date</th>\n",
       "      <th>reviewer_id</th>\n",
       "      <th>reviewer_name</th>\n",
       "      <th>book_category</th>\n",
       "      <th>review_text</th>\n",
       "      <th>review_summary</th>\n",
       "      <th>rating</th>\n",
       "      <th>helpful_review</th>\n",
       "    </tr>\n",
       "  </thead>\n",
       "  <tbody>\n",
       "    <tr>\n",
       "      <th>0</th>\n",
       "      <td>2006-01-18</td>\n",
       "      <td>A3SHA4Y9DHEK39</td>\n",
       "      <td>Chad Oberholtzer</td>\n",
       "      <td>Christian Books &amp; Bibles</td>\n",
       "      <td>We live in a church culture where holiness is ...</td>\n",
       "      <td>This is a great one...</td>\n",
       "      <td>5</td>\n",
       "      <td>0</td>\n",
       "    </tr>\n",
       "    <tr>\n",
       "      <th>1</th>\n",
       "      <td>2008-03-16</td>\n",
       "      <td>A11M98R135HMSY</td>\n",
       "      <td>Paul Skinner</td>\n",
       "      <td>Mystery, Thriller &amp; Suspense</td>\n",
       "      <td>I have read most of Philip Craig's books, and ...</td>\n",
       "      <td>the begining of a beautiful relationship</td>\n",
       "      <td>5</td>\n",
       "      <td>1</td>\n",
       "    </tr>\n",
       "  </tbody>\n",
       "</table>\n",
       "</div>"
      ],
      "text/plain": [
       "  review_date     reviewer_id     reviewer_name                 book_category  \\\n",
       "0  2006-01-18  A3SHA4Y9DHEK39  Chad Oberholtzer      Christian Books & Bibles   \n",
       "1  2008-03-16  A11M98R135HMSY      Paul Skinner  Mystery, Thriller & Suspense   \n",
       "\n",
       "                                         review_text  \\\n",
       "0  We live in a church culture where holiness is ...   \n",
       "1  I have read most of Philip Craig's books, and ...   \n",
       "\n",
       "                             review_summary  rating  helpful_review  \n",
       "0                    This is a great one...       5               0  \n",
       "1  the begining of a beautiful relationship       5               1  "
      ]
     },
     "execution_count": 19,
     "metadata": {},
     "output_type": "execute_result"
    }
   ],
   "source": [
    "amazon.head(2)"
   ]
  },
  {
   "cell_type": "markdown",
   "metadata": {},
   "source": [
    "<a id='Clean Text Data Using Stopwords'></a>\n",
    "## Clean Text Data Using Stopwords\n",
    "The column \"review_text\" contains detailed book reviews. On the other hand, the column \"review_summary\" contains book review summaries. These two columns were cleaned by using the nltk library using the stopwords and function that eliminates the punctuations. The stopwords contains a list that holds the most of the common English words such as \"the, a, an, are, be, and etc\". Words \"book, books, read, reads' were added into the stopwords since the dataset involves book reviews and words like book and read does not generate any values. "
   ]
  },
  {
   "cell_type": "code",
   "execution_count": 20,
   "metadata": {
    "collapsed": true
   },
   "outputs": [],
   "source": [
    "# Function that removes punctuation\n",
    "def remove_punctuation(text):\n",
    "    translator = str.maketrans('', '', string.punctuation)\n",
    "    return text.translate(translator)"
   ]
  },
  {
   "cell_type": "code",
   "execution_count": 21,
   "metadata": {},
   "outputs": [
    {
     "data": {
      "text/html": [
       "<div>\n",
       "<style scoped>\n",
       "    .dataframe tbody tr th:only-of-type {\n",
       "        vertical-align: middle;\n",
       "    }\n",
       "\n",
       "    .dataframe tbody tr th {\n",
       "        vertical-align: top;\n",
       "    }\n",
       "\n",
       "    .dataframe thead th {\n",
       "        text-align: right;\n",
       "    }\n",
       "</style>\n",
       "<table border=\"1\" class=\"dataframe\">\n",
       "  <thead>\n",
       "    <tr style=\"text-align: right;\">\n",
       "      <th></th>\n",
       "      <th>review_date</th>\n",
       "      <th>reviewer_id</th>\n",
       "      <th>reviewer_name</th>\n",
       "      <th>book_category</th>\n",
       "      <th>review_text</th>\n",
       "      <th>review_summary</th>\n",
       "      <th>rating</th>\n",
       "      <th>helpful_review</th>\n",
       "    </tr>\n",
       "  </thead>\n",
       "  <tbody>\n",
       "    <tr>\n",
       "      <th>0</th>\n",
       "      <td>2006-01-18</td>\n",
       "      <td>A3SHA4Y9DHEK39</td>\n",
       "      <td>Chad Oberholtzer</td>\n",
       "      <td>Christian Books &amp; Bibles</td>\n",
       "      <td>We live in a church culture where holiness is ...</td>\n",
       "      <td>This is a great one</td>\n",
       "      <td>5</td>\n",
       "      <td>0</td>\n",
       "    </tr>\n",
       "    <tr>\n",
       "      <th>1</th>\n",
       "      <td>2008-03-16</td>\n",
       "      <td>A11M98R135HMSY</td>\n",
       "      <td>Paul Skinner</td>\n",
       "      <td>Mystery, Thriller &amp; Suspense</td>\n",
       "      <td>I have read most of Philip Craigs books and fi...</td>\n",
       "      <td>the begining of a beautiful relationship</td>\n",
       "      <td>5</td>\n",
       "      <td>1</td>\n",
       "    </tr>\n",
       "    <tr>\n",
       "      <th>2</th>\n",
       "      <td>2013-02-26</td>\n",
       "      <td>AD20B29YQDZYQ</td>\n",
       "      <td>Amazon Customer</td>\n",
       "      <td>Literature &amp; Fiction</td>\n",
       "      <td>The storyline was good  It was the reason I fi...</td>\n",
       "      <td>Just ok</td>\n",
       "      <td>2</td>\n",
       "      <td>1</td>\n",
       "    </tr>\n",
       "    <tr>\n",
       "      <th>3</th>\n",
       "      <td>2013-07-16</td>\n",
       "      <td>AZR6CYHTQ9TL</td>\n",
       "      <td>Inez</td>\n",
       "      <td>Science Fiction &amp; Fantasy</td>\n",
       "      <td>I love most apocalypse stories and this one re...</td>\n",
       "      <td>Oh no bugs everywhere</td>\n",
       "      <td>5</td>\n",
       "      <td>1</td>\n",
       "    </tr>\n",
       "    <tr>\n",
       "      <th>4</th>\n",
       "      <td>2013-04-14</td>\n",
       "      <td>A14BTJRH9VNLJJ</td>\n",
       "      <td>Kurt A. Johnson</td>\n",
       "      <td>Biographies &amp; Memoirs</td>\n",
       "      <td>What is a sociopath A sociopath is a person wi...</td>\n",
       "      <td>An interesting and thought provoking read</td>\n",
       "      <td>4</td>\n",
       "      <td>1</td>\n",
       "    </tr>\n",
       "  </tbody>\n",
       "</table>\n",
       "</div>"
      ],
      "text/plain": [
       "  review_date     reviewer_id     reviewer_name                 book_category  \\\n",
       "0  2006-01-18  A3SHA4Y9DHEK39  Chad Oberholtzer      Christian Books & Bibles   \n",
       "1  2008-03-16  A11M98R135HMSY      Paul Skinner  Mystery, Thriller & Suspense   \n",
       "2  2013-02-26   AD20B29YQDZYQ   Amazon Customer          Literature & Fiction   \n",
       "3  2013-07-16    AZR6CYHTQ9TL              Inez     Science Fiction & Fantasy   \n",
       "4  2013-04-14  A14BTJRH9VNLJJ   Kurt A. Johnson         Biographies & Memoirs   \n",
       "\n",
       "                                         review_text  \\\n",
       "0  We live in a church culture where holiness is ...   \n",
       "1  I have read most of Philip Craigs books and fi...   \n",
       "2  The storyline was good  It was the reason I fi...   \n",
       "3  I love most apocalypse stories and this one re...   \n",
       "4  What is a sociopath A sociopath is a person wi...   \n",
       "\n",
       "                              review_summary  rating  helpful_review  \n",
       "0                        This is a great one       5               0  \n",
       "1   the begining of a beautiful relationship       5               1  \n",
       "2                                    Just ok       2               1  \n",
       "3                      Oh no bugs everywhere       5               1  \n",
       "4  An interesting and thought provoking read       4               1  "
      ]
     },
     "execution_count": 21,
     "metadata": {},
     "output_type": "execute_result"
    }
   ],
   "source": [
    "# Apply the remove_punctuation function to remove punctuation for columns review_text and review_summary\n",
    "amazon['review_text'] = amazon['review_text'].apply(remove_punctuation)\n",
    "amazon['review_summary'] = amazon['review_summary'].apply(remove_punctuation)\n",
    "amazon.head()"
   ]
  },
  {
   "cell_type": "code",
   "execution_count": 22,
   "metadata": {},
   "outputs": [
    {
     "data": {
      "text/plain": [
       "['i',\n",
       " 'me',\n",
       " 'my',\n",
       " 'myself',\n",
       " 'we',\n",
       " 'our',\n",
       " 'ours',\n",
       " 'ourselves',\n",
       " 'you',\n",
       " \"you're\",\n",
       " \"you've\",\n",
       " \"you'll\",\n",
       " \"you'd\",\n",
       " 'your',\n",
       " 'yours',\n",
       " 'yourself',\n",
       " 'yourselves',\n",
       " 'he',\n",
       " 'him',\n",
       " 'his',\n",
       " 'himself',\n",
       " 'she',\n",
       " \"she's\",\n",
       " 'her',\n",
       " 'hers',\n",
       " 'herself',\n",
       " 'it',\n",
       " \"it's\",\n",
       " 'its',\n",
       " 'itself',\n",
       " 'they',\n",
       " 'them',\n",
       " 'their',\n",
       " 'theirs',\n",
       " 'themselves',\n",
       " 'what',\n",
       " 'which',\n",
       " 'who',\n",
       " 'whom',\n",
       " 'this',\n",
       " 'that',\n",
       " \"that'll\",\n",
       " 'these',\n",
       " 'those',\n",
       " 'am',\n",
       " 'is',\n",
       " 'are',\n",
       " 'was',\n",
       " 'were',\n",
       " 'be',\n",
       " 'been',\n",
       " 'being',\n",
       " 'have',\n",
       " 'has',\n",
       " 'had',\n",
       " 'having',\n",
       " 'do',\n",
       " 'does',\n",
       " 'did',\n",
       " 'doing',\n",
       " 'a',\n",
       " 'an',\n",
       " 'the',\n",
       " 'and',\n",
       " 'but',\n",
       " 'if',\n",
       " 'or',\n",
       " 'because',\n",
       " 'as',\n",
       " 'until',\n",
       " 'while',\n",
       " 'of',\n",
       " 'at',\n",
       " 'by',\n",
       " 'for',\n",
       " 'with',\n",
       " 'about',\n",
       " 'against',\n",
       " 'between',\n",
       " 'into',\n",
       " 'through',\n",
       " 'during',\n",
       " 'before',\n",
       " 'after',\n",
       " 'above',\n",
       " 'below',\n",
       " 'to',\n",
       " 'from',\n",
       " 'up',\n",
       " 'down',\n",
       " 'in',\n",
       " 'out',\n",
       " 'on',\n",
       " 'off',\n",
       " 'over',\n",
       " 'under',\n",
       " 'again',\n",
       " 'further',\n",
       " 'then',\n",
       " 'once',\n",
       " 'here',\n",
       " 'there',\n",
       " 'when',\n",
       " 'where',\n",
       " 'why',\n",
       " 'how',\n",
       " 'all',\n",
       " 'any',\n",
       " 'both',\n",
       " 'each',\n",
       " 'few',\n",
       " 'more',\n",
       " 'most',\n",
       " 'other',\n",
       " 'some',\n",
       " 'such',\n",
       " 'no',\n",
       " 'nor',\n",
       " 'not',\n",
       " 'only',\n",
       " 'own',\n",
       " 'same',\n",
       " 'so',\n",
       " 'than',\n",
       " 'too',\n",
       " 'very',\n",
       " 's',\n",
       " 't',\n",
       " 'can',\n",
       " 'will',\n",
       " 'just',\n",
       " 'don',\n",
       " \"don't\",\n",
       " 'should',\n",
       " \"should've\",\n",
       " 'now',\n",
       " 'd',\n",
       " 'll',\n",
       " 'm',\n",
       " 'o',\n",
       " 're',\n",
       " 've',\n",
       " 'y',\n",
       " 'ain',\n",
       " 'aren',\n",
       " \"aren't\",\n",
       " 'couldn',\n",
       " \"couldn't\",\n",
       " 'didn',\n",
       " \"didn't\",\n",
       " 'doesn',\n",
       " \"doesn't\",\n",
       " 'hadn',\n",
       " \"hadn't\",\n",
       " 'hasn',\n",
       " \"hasn't\",\n",
       " 'haven',\n",
       " \"haven't\",\n",
       " 'isn',\n",
       " \"isn't\",\n",
       " 'ma',\n",
       " 'mightn',\n",
       " \"mightn't\",\n",
       " 'mustn',\n",
       " \"mustn't\",\n",
       " 'needn',\n",
       " \"needn't\",\n",
       " 'shan',\n",
       " \"shan't\",\n",
       " 'shouldn',\n",
       " \"shouldn't\",\n",
       " 'wasn',\n",
       " \"wasn't\",\n",
       " 'weren',\n",
       " \"weren't\",\n",
       " 'won',\n",
       " \"won't\",\n",
       " 'wouldn',\n",
       " \"wouldn't\",\n",
       " 'book',\n",
       " 'books',\n",
       " 'read',\n",
       " 'reads']"
      ]
     },
     "execution_count": 22,
     "metadata": {},
     "output_type": "execute_result"
    }
   ],
   "source": [
    "# Extracting the stopwords from nltk library\n",
    "sw = stopwords.words('english')\n",
    "# Add additional stopwords that does not generate any values\n",
    "new_stopwords = ['book', 'books', 'read', 'reads']\n",
    "[sw.append(each) for each in new_stopwords]\n",
    "sw"
   ]
  },
  {
   "cell_type": "code",
   "execution_count": 23,
   "metadata": {
    "collapsed": true
   },
   "outputs": [],
   "source": [
    "# Remove stopwords in the text data columns by applying stopwords function\n",
    "def stopwords(text):\n",
    "    text = [word.lower() for word in text.split() if word.lower() not in sw]\n",
    "    return \" \".join(text)"
   ]
  },
  {
   "cell_type": "code",
   "execution_count": 24,
   "metadata": {},
   "outputs": [
    {
     "data": {
      "text/html": [
       "<div>\n",
       "<style scoped>\n",
       "    .dataframe tbody tr th:only-of-type {\n",
       "        vertical-align: middle;\n",
       "    }\n",
       "\n",
       "    .dataframe tbody tr th {\n",
       "        vertical-align: top;\n",
       "    }\n",
       "\n",
       "    .dataframe thead th {\n",
       "        text-align: right;\n",
       "    }\n",
       "</style>\n",
       "<table border=\"1\" class=\"dataframe\">\n",
       "  <thead>\n",
       "    <tr style=\"text-align: right;\">\n",
       "      <th></th>\n",
       "      <th>review_date</th>\n",
       "      <th>reviewer_id</th>\n",
       "      <th>reviewer_name</th>\n",
       "      <th>book_category</th>\n",
       "      <th>review_text</th>\n",
       "      <th>review_summary</th>\n",
       "      <th>rating</th>\n",
       "      <th>helpful_review</th>\n",
       "    </tr>\n",
       "  </thead>\n",
       "  <tbody>\n",
       "    <tr>\n",
       "      <th>0</th>\n",
       "      <td>2006-01-18</td>\n",
       "      <td>A3SHA4Y9DHEK39</td>\n",
       "      <td>Chad Oberholtzer</td>\n",
       "      <td>Christian Books &amp; Bibles</td>\n",
       "      <td>live church culture holiness rarely mentioned ...</td>\n",
       "      <td>great one</td>\n",
       "      <td>5</td>\n",
       "      <td>0</td>\n",
       "    </tr>\n",
       "    <tr>\n",
       "      <th>1</th>\n",
       "      <td>2008-03-16</td>\n",
       "      <td>A11M98R135HMSY</td>\n",
       "      <td>Paul Skinner</td>\n",
       "      <td>Mystery, Thriller &amp; Suspense</td>\n",
       "      <td>philip craigs finally got around first j w jac...</td>\n",
       "      <td>begining beautiful relationship</td>\n",
       "      <td>5</td>\n",
       "      <td>1</td>\n",
       "    </tr>\n",
       "    <tr>\n",
       "      <th>2</th>\n",
       "      <td>2013-02-26</td>\n",
       "      <td>AD20B29YQDZYQ</td>\n",
       "      <td>Amazon Customer</td>\n",
       "      <td>Literature &amp; Fiction</td>\n",
       "      <td>storyline good reason finished filled way much...</td>\n",
       "      <td>ok</td>\n",
       "      <td>2</td>\n",
       "      <td>1</td>\n",
       "    </tr>\n",
       "    <tr>\n",
       "      <th>3</th>\n",
       "      <td>2013-07-16</td>\n",
       "      <td>AZR6CYHTQ9TL</td>\n",
       "      <td>Inez</td>\n",
       "      <td>Science Fiction &amp; Fantasy</td>\n",
       "      <td>love apocalypse stories one really creeped lik...</td>\n",
       "      <td>oh bugs everywhere</td>\n",
       "      <td>5</td>\n",
       "      <td>1</td>\n",
       "    </tr>\n",
       "    <tr>\n",
       "      <th>4</th>\n",
       "      <td>2013-04-14</td>\n",
       "      <td>A14BTJRH9VNLJJ</td>\n",
       "      <td>Kurt A. Johnson</td>\n",
       "      <td>Biographies &amp; Memoirs</td>\n",
       "      <td>sociopath sociopath person little conscience p...</td>\n",
       "      <td>interesting thought provoking</td>\n",
       "      <td>4</td>\n",
       "      <td>1</td>\n",
       "    </tr>\n",
       "  </tbody>\n",
       "</table>\n",
       "</div>"
      ],
      "text/plain": [
       "  review_date     reviewer_id     reviewer_name                 book_category  \\\n",
       "0  2006-01-18  A3SHA4Y9DHEK39  Chad Oberholtzer      Christian Books & Bibles   \n",
       "1  2008-03-16  A11M98R135HMSY      Paul Skinner  Mystery, Thriller & Suspense   \n",
       "2  2013-02-26   AD20B29YQDZYQ   Amazon Customer          Literature & Fiction   \n",
       "3  2013-07-16    AZR6CYHTQ9TL              Inez     Science Fiction & Fantasy   \n",
       "4  2013-04-14  A14BTJRH9VNLJJ   Kurt A. Johnson         Biographies & Memoirs   \n",
       "\n",
       "                                         review_text  \\\n",
       "0  live church culture holiness rarely mentioned ...   \n",
       "1  philip craigs finally got around first j w jac...   \n",
       "2  storyline good reason finished filled way much...   \n",
       "3  love apocalypse stories one really creeped lik...   \n",
       "4  sociopath sociopath person little conscience p...   \n",
       "\n",
       "                    review_summary  rating  helpful_review  \n",
       "0                        great one       5               0  \n",
       "1  begining beautiful relationship       5               1  \n",
       "2                               ok       2               1  \n",
       "3               oh bugs everywhere       5               1  \n",
       "4    interesting thought provoking       4               1  "
      ]
     },
     "execution_count": 24,
     "metadata": {},
     "output_type": "execute_result"
    }
   ],
   "source": [
    "# Apply the function above to remove stopwords\n",
    "amazon['review_text'] = amazon['review_text'].apply(stopwords)\n",
    "amazon['review_summary'] = amazon['review_summary'].apply(stopwords)\n",
    "amazon.head()"
   ]
  },
  {
   "cell_type": "markdown",
   "metadata": {},
   "source": [
    "<a id='Save Cleaned Data for EDA'></a>\n",
    "## Save Cleaned Data for EDA\n",
    "After cleaning the overall dataset, the cleaned dataset was saved for exploratory data analysis."
   ]
  },
  {
   "cell_type": "code",
   "execution_count": 25,
   "metadata": {
    "collapsed": true
   },
   "outputs": [],
   "source": [
    "# Save the cleaned data.\n",
    "amazon.to_csv('data/amazon_sample_eda.csv', index=False)"
   ]
  },
  {
   "cell_type": "code",
   "execution_count": 26,
   "metadata": {
    "collapsed": true
   },
   "outputs": [],
   "source": [
    "# Load clean data\n",
    "amazon = pd.read_csv('data/amazon_sample_eda.csv')"
   ]
  },
  {
   "cell_type": "code",
   "execution_count": 27,
   "metadata": {
    "scrolled": true
   },
   "outputs": [
    {
     "data": {
      "text/html": [
       "<div>\n",
       "<style scoped>\n",
       "    .dataframe tbody tr th:only-of-type {\n",
       "        vertical-align: middle;\n",
       "    }\n",
       "\n",
       "    .dataframe tbody tr th {\n",
       "        vertical-align: top;\n",
       "    }\n",
       "\n",
       "    .dataframe thead th {\n",
       "        text-align: right;\n",
       "    }\n",
       "</style>\n",
       "<table border=\"1\" class=\"dataframe\">\n",
       "  <thead>\n",
       "    <tr style=\"text-align: right;\">\n",
       "      <th></th>\n",
       "      <th>review_date</th>\n",
       "      <th>reviewer_id</th>\n",
       "      <th>reviewer_name</th>\n",
       "      <th>book_category</th>\n",
       "      <th>review_text</th>\n",
       "      <th>review_summary</th>\n",
       "      <th>rating</th>\n",
       "      <th>helpful_review</th>\n",
       "    </tr>\n",
       "  </thead>\n",
       "  <tbody>\n",
       "    <tr>\n",
       "      <th>0</th>\n",
       "      <td>2006-01-18</td>\n",
       "      <td>A3SHA4Y9DHEK39</td>\n",
       "      <td>Chad Oberholtzer</td>\n",
       "      <td>Christian Books &amp; Bibles</td>\n",
       "      <td>live church culture holiness rarely mentioned ...</td>\n",
       "      <td>great one</td>\n",
       "      <td>5</td>\n",
       "      <td>0</td>\n",
       "    </tr>\n",
       "    <tr>\n",
       "      <th>1</th>\n",
       "      <td>2008-03-16</td>\n",
       "      <td>A11M98R135HMSY</td>\n",
       "      <td>Paul Skinner</td>\n",
       "      <td>Mystery, Thriller &amp; Suspense</td>\n",
       "      <td>philip craigs finally got around first j w jac...</td>\n",
       "      <td>begining beautiful relationship</td>\n",
       "      <td>5</td>\n",
       "      <td>1</td>\n",
       "    </tr>\n",
       "    <tr>\n",
       "      <th>2</th>\n",
       "      <td>2013-02-26</td>\n",
       "      <td>AD20B29YQDZYQ</td>\n",
       "      <td>Amazon Customer</td>\n",
       "      <td>Literature &amp; Fiction</td>\n",
       "      <td>storyline good reason finished filled way much...</td>\n",
       "      <td>ok</td>\n",
       "      <td>2</td>\n",
       "      <td>1</td>\n",
       "    </tr>\n",
       "    <tr>\n",
       "      <th>3</th>\n",
       "      <td>2013-07-16</td>\n",
       "      <td>AZR6CYHTQ9TL</td>\n",
       "      <td>Inez</td>\n",
       "      <td>Science Fiction &amp; Fantasy</td>\n",
       "      <td>love apocalypse stories one really creeped lik...</td>\n",
       "      <td>oh bugs everywhere</td>\n",
       "      <td>5</td>\n",
       "      <td>1</td>\n",
       "    </tr>\n",
       "    <tr>\n",
       "      <th>4</th>\n",
       "      <td>2013-04-14</td>\n",
       "      <td>A14BTJRH9VNLJJ</td>\n",
       "      <td>Kurt A. Johnson</td>\n",
       "      <td>Biographies &amp; Memoirs</td>\n",
       "      <td>sociopath sociopath person little conscience p...</td>\n",
       "      <td>interesting thought provoking</td>\n",
       "      <td>4</td>\n",
       "      <td>1</td>\n",
       "    </tr>\n",
       "  </tbody>\n",
       "</table>\n",
       "</div>"
      ],
      "text/plain": [
       "  review_date     reviewer_id     reviewer_name                 book_category  \\\n",
       "0  2006-01-18  A3SHA4Y9DHEK39  Chad Oberholtzer      Christian Books & Bibles   \n",
       "1  2008-03-16  A11M98R135HMSY      Paul Skinner  Mystery, Thriller & Suspense   \n",
       "2  2013-02-26   AD20B29YQDZYQ   Amazon Customer          Literature & Fiction   \n",
       "3  2013-07-16    AZR6CYHTQ9TL              Inez     Science Fiction & Fantasy   \n",
       "4  2013-04-14  A14BTJRH9VNLJJ   Kurt A. Johnson         Biographies & Memoirs   \n",
       "\n",
       "                                         review_text  \\\n",
       "0  live church culture holiness rarely mentioned ...   \n",
       "1  philip craigs finally got around first j w jac...   \n",
       "2  storyline good reason finished filled way much...   \n",
       "3  love apocalypse stories one really creeped lik...   \n",
       "4  sociopath sociopath person little conscience p...   \n",
       "\n",
       "                    review_summary  rating  helpful_review  \n",
       "0                        great one       5               0  \n",
       "1  begining beautiful relationship       5               1  \n",
       "2                               ok       2               1  \n",
       "3               oh bugs everywhere       5               1  \n",
       "4    interesting thought provoking       4               1  "
      ]
     },
     "execution_count": 27,
     "metadata": {},
     "output_type": "execute_result"
    }
   ],
   "source": [
    "# Make sure everything looks correctly\n",
    "amazon.head()"
   ]
  }
 ],
 "metadata": {
  "kernelspec": {
   "display_name": "Python 3",
   "language": "python",
   "name": "python3"
  },
  "language_info": {
   "codemirror_mode": {
    "name": "ipython",
    "version": 3
   },
   "file_extension": ".py",
   "mimetype": "text/x-python",
   "name": "python",
   "nbconvert_exporter": "python",
   "pygments_lexer": "ipython3",
   "version": "3.6.3"
  }
 },
 "nbformat": 4,
 "nbformat_minor": 2
}
