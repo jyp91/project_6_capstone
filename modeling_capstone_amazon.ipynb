{
 "cells": [
  {
   "cell_type": "markdown",
   "metadata": {},
   "source": [
    "# Capstone Project: Predict Amazon Book Review Ratings Using  Sentiment Analysis\n",
    "\n",
    "## Modeling\n",
    "\n",
    "\n",
    "_By: Jin Park_\n",
    "\n",
    "---\n",
    "### Objectives\n",
    "\n",
    "- Create different models to identify the best performing model. \n",
    "- Use RandomForest Classifier to predict rating by using text and summary review polarity and subjectivity as features.\n",
    "- Use Logistic Regression to predict rating by using text and summary review polarity and subjectivity as features.\n",
    "- Use Keras Neural Network to predict rating by using text and summary review polarity and subjectivity as features.\n",
    "\n",
    "---\n",
    "### Project Guide (Modeling)\n",
    "- [Imports](#Imports)\n",
    "- [Modeling](#Modeling)\n",
    "    - [Baseline](#Baseline)\n",
    "    - [RandomForest Classifier](#RandomForest Classifier)\n",
    "        - [Randomized Searched Params](#Randomized Searched Params)\n",
    "        - [RandomizedSearch RandomForest Classifier](#RandomizedSearch RandomForest Classifier)\n",
    "        - [Grid-Search RandomizedSearch RandomForest Classifier](#Grid-Search RandomizedSearch RandomForest Classifier)\n",
    "    - [Logistic Regression](#Logistic Regression)\n",
    "        - [Logistic Regression Randomized Searched Params](#Logistic Regression Randomized Searched Params)\n",
    "    - [Keras Neural Network](#Keras Neural Network)\n",
    "        - [Train and Test Loss](#Train and Test Loss)\n",
    "        - [Accuracy](#Accuracy)\n",
    "    - [Can Text Data Have Better Prediction?](#Can Text Data Have Better Prediction?) "
   ]
  },
  {
   "cell_type": "markdown",
   "metadata": {},
   "source": [
    "<a id='Imports'></a>\n",
    "# Imports"
   ]
  },
  {
   "cell_type": "code",
   "execution_count": 1,
   "metadata": {},
   "outputs": [
    {
     "name": "stderr",
     "output_type": "stream",
     "text": [
      "Using TensorFlow backend.\n"
     ]
    }
   ],
   "source": [
    "import time\n",
    "import string\n",
    "import numpy as np\n",
    "import pandas as pd\n",
    "import seaborn as sns\n",
    "import matplotlib\n",
    "import matplotlib.pyplot as plt\n",
    "%matplotlib inline\n",
    "%config InlineBackend.figure_format = 'retina'\n",
    "\n",
    "from pprint import pprint\n",
    "from collections import Counter\n",
    "from nltk.corpus import stopwords\n",
    "from wordcloud import WordCloud, STOPWORDS\n",
    "\n",
    "from sklearn.model_selection import cross_val_score, train_test_split\n",
    "from sklearn.linear_model import LogisticRegression\n",
    "from sklearn.ensemble import RandomForestClassifier, BaggingClassifier\n",
    "from sklearn.feature_extraction.text import CountVectorizer, TfidfVectorizer, HashingVectorizer \n",
    "from sklearn.metrics import confusion_matrix\n",
    "from sklearn.model_selection import GridSearchCV, RandomizedSearchCV\n",
    "from sklearn.preprocessing import StandardScaler,LabelEncoder\n",
    "\n",
    "import tensorflow as tf\n",
    "import keras\n",
    "\n",
    "from keras import regularizers\n",
    "from keras.models import Sequential\n",
    "from keras.layers import Dense, Dropout, Activation, Flatten\n",
    "from keras.utils import to_categorical, np_utils\n",
    "\n",
    "from sklearn.metrics import confusion_matrix, accuracy_score\n",
    "from sklearn.model_selection import train_test_split\n",
    "from sklearn.preprocessing import StandardScaler\n",
    "from keras.callbacks import EarlyStopping"
   ]
  },
  {
   "cell_type": "code",
   "execution_count": 2,
   "metadata": {},
   "outputs": [
    {
     "data": {
      "text/html": [
       "<div>\n",
       "<style scoped>\n",
       "    .dataframe tbody tr th:only-of-type {\n",
       "        vertical-align: middle;\n",
       "    }\n",
       "\n",
       "    .dataframe tbody tr th {\n",
       "        vertical-align: top;\n",
       "    }\n",
       "\n",
       "    .dataframe thead th {\n",
       "        text-align: right;\n",
       "    }\n",
       "</style>\n",
       "<table border=\"1\" class=\"dataframe\">\n",
       "  <thead>\n",
       "    <tr style=\"text-align: right;\">\n",
       "      <th></th>\n",
       "      <th>review_date</th>\n",
       "      <th>reviewer_id</th>\n",
       "      <th>reviewer_name</th>\n",
       "      <th>book_category</th>\n",
       "      <th>review_text</th>\n",
       "      <th>review_summary</th>\n",
       "      <th>rating</th>\n",
       "      <th>helpful_review</th>\n",
       "      <th>summary_pol</th>\n",
       "      <th>summary_subj</th>\n",
       "      <th>text_pol</th>\n",
       "      <th>text_subj</th>\n",
       "    </tr>\n",
       "  </thead>\n",
       "  <tbody>\n",
       "    <tr>\n",
       "      <th>0</th>\n",
       "      <td>2006-01-18</td>\n",
       "      <td>A3SHA4Y9DHEK39</td>\n",
       "      <td>Chad Oberholtzer</td>\n",
       "      <td>Christian Books &amp; Bibles</td>\n",
       "      <td>live church culture holiness rarely mentioned ...</td>\n",
       "      <td>great one</td>\n",
       "      <td>5</td>\n",
       "      <td>0</td>\n",
       "      <td>0.8</td>\n",
       "      <td>0.8</td>\n",
       "      <td>0.3</td>\n",
       "      <td>0.5</td>\n",
       "    </tr>\n",
       "    <tr>\n",
       "      <th>1</th>\n",
       "      <td>2008-03-16</td>\n",
       "      <td>A11M98R135HMSY</td>\n",
       "      <td>Paul Skinner</td>\n",
       "      <td>Mystery, Thriller &amp; Suspense</td>\n",
       "      <td>philip craigs finally got around first j w jac...</td>\n",
       "      <td>begining beautiful relationship</td>\n",
       "      <td>5</td>\n",
       "      <td>1</td>\n",
       "      <td>0.8</td>\n",
       "      <td>1.0</td>\n",
       "      <td>0.2</td>\n",
       "      <td>0.5</td>\n",
       "    </tr>\n",
       "    <tr>\n",
       "      <th>2</th>\n",
       "      <td>2013-02-26</td>\n",
       "      <td>AD20B29YQDZYQ</td>\n",
       "      <td>Amazon Customer</td>\n",
       "      <td>Literature &amp; Fiction</td>\n",
       "      <td>storyline good reason finished filled way much...</td>\n",
       "      <td>ok</td>\n",
       "      <td>2</td>\n",
       "      <td>1</td>\n",
       "      <td>0.5</td>\n",
       "      <td>0.5</td>\n",
       "      <td>0.1</td>\n",
       "      <td>0.5</td>\n",
       "    </tr>\n",
       "    <tr>\n",
       "      <th>3</th>\n",
       "      <td>2013-07-16</td>\n",
       "      <td>AZR6CYHTQ9TL</td>\n",
       "      <td>Inez</td>\n",
       "      <td>Science Fiction &amp; Fantasy</td>\n",
       "      <td>love apocalypse stories one really creeped lik...</td>\n",
       "      <td>oh bugs everywhere</td>\n",
       "      <td>5</td>\n",
       "      <td>1</td>\n",
       "      <td>0.0</td>\n",
       "      <td>0.0</td>\n",
       "      <td>0.4</td>\n",
       "      <td>0.4</td>\n",
       "    </tr>\n",
       "    <tr>\n",
       "      <th>4</th>\n",
       "      <td>2013-04-14</td>\n",
       "      <td>A14BTJRH9VNLJJ</td>\n",
       "      <td>Kurt A. Johnson</td>\n",
       "      <td>Biographies &amp; Memoirs</td>\n",
       "      <td>sociopath sociopath person little conscience p...</td>\n",
       "      <td>interesting thought provoking</td>\n",
       "      <td>4</td>\n",
       "      <td>1</td>\n",
       "      <td>0.5</td>\n",
       "      <td>0.5</td>\n",
       "      <td>0.1</td>\n",
       "      <td>0.5</td>\n",
       "    </tr>\n",
       "  </tbody>\n",
       "</table>\n",
       "</div>"
      ],
      "text/plain": [
       "  review_date     reviewer_id     reviewer_name                 book_category  \\\n",
       "0  2006-01-18  A3SHA4Y9DHEK39  Chad Oberholtzer      Christian Books & Bibles   \n",
       "1  2008-03-16  A11M98R135HMSY      Paul Skinner  Mystery, Thriller & Suspense   \n",
       "2  2013-02-26   AD20B29YQDZYQ   Amazon Customer          Literature & Fiction   \n",
       "3  2013-07-16    AZR6CYHTQ9TL              Inez     Science Fiction & Fantasy   \n",
       "4  2013-04-14  A14BTJRH9VNLJJ   Kurt A. Johnson         Biographies & Memoirs   \n",
       "\n",
       "                                         review_text  \\\n",
       "0  live church culture holiness rarely mentioned ...   \n",
       "1  philip craigs finally got around first j w jac...   \n",
       "2  storyline good reason finished filled way much...   \n",
       "3  love apocalypse stories one really creeped lik...   \n",
       "4  sociopath sociopath person little conscience p...   \n",
       "\n",
       "                    review_summary  rating  helpful_review  summary_pol  \\\n",
       "0                        great one       5               0          0.8   \n",
       "1  begining beautiful relationship       5               1          0.8   \n",
       "2                               ok       2               1          0.5   \n",
       "3               oh bugs everywhere       5               1          0.0   \n",
       "4    interesting thought provoking       4               1          0.5   \n",
       "\n",
       "   summary_subj  text_pol  text_subj  \n",
       "0           0.8       0.3        0.5  \n",
       "1           1.0       0.2        0.5  \n",
       "2           0.5       0.1        0.5  \n",
       "3           0.0       0.4        0.4  \n",
       "4           0.5       0.1        0.5  "
      ]
     },
     "execution_count": 2,
     "metadata": {},
     "output_type": "execute_result"
    }
   ],
   "source": [
    "# Load modeling data\n",
    "amazon = pd.read_csv('data/amazon_sample_modeling.csv')\n",
    "amazon.head()"
   ]
  },
  {
   "cell_type": "markdown",
   "metadata": {},
   "source": [
    "<a id='Modeling'></a>\n",
    "# Modeling\n",
    "The target is a multi-classification problem since the rating contains values from 1 to 5. However, it can be converted into binary classification by performing a boolean filtering. For example, if the rating is greater than or equal 3 then convert to 1 else 0 or create a label encoder by using sklearn.\n",
    "\n",
    " Based on the performance of the different models, modeling techniques will be adjusted to increase the scores. "
   ]
  },
  {
   "cell_type": "markdown",
   "metadata": {},
   "source": [
    "<a id='Baseline'></a>\n",
    "### Baseline\n",
    "Before modeling, it is best to know the baseline.  There are 5 different categories of the rating. Simply, a baseline can be calculated by getting the length of the most frequently occurring rating which is rating 5 and divide it by the overall length of rating. This will give the baseline result 55% to beat. "
   ]
  },
  {
   "cell_type": "code",
   "execution_count": 3,
   "metadata": {},
   "outputs": [
    {
     "data": {
      "text/plain": [
       "0.5460774237752655"
      ]
     },
     "execution_count": 3,
     "metadata": {},
     "output_type": "execute_result"
    }
   ],
   "source": [
    "# Setting the baseline to beat!\n",
    "baseline = len(amazon[amazon['rating'] == 5])/len(amazon['rating'])\n",
    "baseline"
   ]
  },
  {
   "cell_type": "markdown",
   "metadata": {},
   "source": [
    "<a id='RandomForest Classifier'></a>\n",
    "## RandomForest Classifier\n",
    "RandomForest Classifier generally takes a very long time to perform especially with Grid-search method which runs all tests and picks out the best performing model. This can be very exhaustive search. To avoid this problem, I have set a randomized searched parameters and the RandomizedSearchCV will randomly generate the parameters and use it for RandomForest Classifier to predict the rating by using sentiment analysis as for features. After doing the randomized searched RandomForest Classifier, use the best parameters of this RandomForest Classifier to perform a Grid-Search to optimize the model score. As a result, overall randomized search RandomForest classifier only outperforms the baseline by 1% and Grid-search performs less than the baseline."
   ]
  },
  {
   "cell_type": "markdown",
   "metadata": {},
   "source": [
    "<a id='Randomized Searched Params'></a>\n",
    "### Randomized Searched Params"
   ]
  },
  {
   "cell_type": "code",
   "execution_count": 4,
   "metadata": {
    "scrolled": true
   },
   "outputs": [
    {
     "name": "stdout",
     "output_type": "stream",
     "text": [
      "{'bootstrap': [True, False],\n",
      " 'max_depth': [10, 19, 28, 37, 46, 55, 64, 73, 82, 91, 100, None],\n",
      " 'max_features': ['auto', 'sqrt', 'log2'],\n",
      " 'min_samples_leaf': [1, 2, 4, 8, 10],\n",
      " 'min_samples_split': [2, 4, 8, 10],\n",
      " 'n_estimators': [10, 20, 30, 40, 50, 60, 70, 80, 90, 100]}\n"
     ]
    }
   ],
   "source": [
    "# Number of trees in random forest\n",
    "n_estimators = [int(x) for x in np.linspace(start = 10, stop = 100, num = 10)]\n",
    "# Number of features to consider at every split\n",
    "max_features = ['auto', 'sqrt', 'log2']\n",
    "# Maximum number of levels in tree\n",
    "max_depth = [int(x) for x in np.linspace(10, 100, num = 11)]\n",
    "max_depth.append(None)\n",
    "# Minimum number of samples required to split a node\n",
    "min_samples_split = [2, 4, 8, 10]\n",
    "# Minimum number of samples required at each leaf node\n",
    "min_samples_leaf = [1, 2, 4, 8, 10]\n",
    "# Method of selecting samples for training each tree\n",
    "bootstrap = [True, False]\n",
    "\n",
    "# Create the random grid\n",
    "random_grid = {'n_estimators': n_estimators,\n",
    "               'max_features': max_features,\n",
    "               'max_depth': max_depth,\n",
    "               'min_samples_split': min_samples_split,\n",
    "               'min_samples_leaf': min_samples_leaf,\n",
    "               'bootstrap': bootstrap}\n",
    "\n",
    "pprint(random_grid)"
   ]
  },
  {
   "cell_type": "markdown",
   "metadata": {},
   "source": [
    "<a id='RandomizedSearch RandomForest Classifier'></a>\n",
    "### RandomizedSearch RandomForest Classifier"
   ]
  },
  {
   "cell_type": "code",
   "execution_count": 25,
   "metadata": {},
   "outputs": [
    {
     "name": "stdout",
     "output_type": "stream",
     "text": [
      "Fitting 5 folds for each of 100 candidates, totalling 500 fits\n",
      "CPU times: user 1min 33s, sys: 357 ms, total: 1min 33s\n",
      "Wall time: 1min 33s\n"
     ]
    },
    {
     "name": "stderr",
     "output_type": "stream",
     "text": [
      "[Parallel(n_jobs=1)]: Done 500 out of 500 | elapsed:  1.6min finished\n"
     ]
    }
   ],
   "source": [
    "%%time\n",
    "X = amazon[['summary_pol', 'summary_subj','text_pol', 'text_subj']]\n",
    "y = amazon['rating']\n",
    "\n",
    "X_train, X_test, y_train, y_test = train_test_split(X,y)\n",
    "\n",
    "le = LabelEncoder()\n",
    "le.fit(y)\n",
    "y_train = le.transform(y_train)\n",
    "y_test = le.transform(y_test)\n",
    "\n",
    "rf = RandomForestClassifier()\n",
    "rf_random = RandomizedSearchCV(estimator = rf,\n",
    "                               param_distributions = random_grid,\n",
    "                               n_iter = 100,\n",
    "                               cv = 5,\n",
    "                               verbose = 1,\n",
    "                               random_state = 42,\n",
    "                               n_jobs = 1)\n",
    "rf_random.fit(X_train, y_train)"
   ]
  },
  {
   "cell_type": "code",
   "execution_count": 26,
   "metadata": {},
   "outputs": [
    {
     "data": {
      "text/plain": [
       "{'bootstrap': True,\n",
       " 'max_depth': 82,\n",
       " 'max_features': 'sqrt',\n",
       " 'min_samples_leaf': 10,\n",
       " 'min_samples_split': 10,\n",
       " 'n_estimators': 20}"
      ]
     },
     "execution_count": 26,
     "metadata": {},
     "output_type": "execute_result"
    }
   ],
   "source": [
    "rf_random.best_params_"
   ]
  },
  {
   "cell_type": "code",
   "execution_count": 27,
   "metadata": {},
   "outputs": [
    {
     "name": "stdout",
     "output_type": "stream",
     "text": [
      "Baseline: 0.5460774237752655\n",
      "RandomForest Classifier Score: 55.525114155251146\n"
     ]
    }
   ],
   "source": [
    "best_random = rf_random.best_estimator_\n",
    "random_accuracy = best_random.score(X_test, y_test)\n",
    "print('Baseline:', baseline)\n",
    "print('RandomForest Classifier Score:', random_accuracy * 100)"
   ]
  },
  {
   "cell_type": "markdown",
   "metadata": {},
   "source": [
    "<a id='Grid-Search RandomizedSearch RandomForest Classifier'></a>\n",
    "### Grid-Search RandomizedSearch RandomForest Classifier"
   ]
  },
  {
   "cell_type": "code",
   "execution_count": 28,
   "metadata": {
    "collapsed": true
   },
   "outputs": [],
   "source": [
    "# Create the parameter grid based on the results of random search \n",
    "param_grid = {'bootstrap': [True],\n",
    "              'max_depth': [82],\n",
    "              'max_features': ['sqrt'],\n",
    "              'min_samples_leaf': [10],\n",
    "              'min_samples_split': [10],\n",
    "              'n_estimators': [20]}\n",
    "\n",
    "# Create a based model\n",
    "rf = RandomForestClassifier()\n",
    "# Instantiate the grid search model\n",
    "grid_search = GridSearchCV(estimator = rf,\n",
    "                           param_grid = param_grid,\n",
    "                           cv = 5,\n",
    "                           n_jobs = 1,\n",
    "                           verbose = 1)"
   ]
  },
  {
   "cell_type": "code",
   "execution_count": 29,
   "metadata": {},
   "outputs": [
    {
     "name": "stdout",
     "output_type": "stream",
     "text": [
      "Fitting 5 folds for each of 1 candidates, totalling 5 fits\n",
      "{'bootstrap': True, 'max_depth': 82, 'max_features': 'sqrt', 'min_samples_leaf': 10, 'min_samples_split': 10, 'n_estimators': 20}\n"
     ]
    },
    {
     "name": "stderr",
     "output_type": "stream",
     "text": [
      "[Parallel(n_jobs=1)]: Done   5 out of   5 | elapsed:    0.3s finished\n"
     ]
    }
   ],
   "source": [
    "# Fit the grid search to the data\n",
    "grid_search.fit(X_train, y_train)\n",
    "print(grid_search.best_params_)"
   ]
  },
  {
   "cell_type": "code",
   "execution_count": 30,
   "metadata": {},
   "outputs": [
    {
     "name": "stdout",
     "output_type": "stream",
     "text": [
      "Baseline: 0.5460774237752655\n",
      "Grid-Search RandomForest Classification Score: 55.79908675799087\n"
     ]
    }
   ],
   "source": [
    "best_grid = grid_search.best_estimator_\n",
    "grid_accuracy = best_grid.score(X_test, y_test)\n",
    "print('Baseline:', baseline)\n",
    "print('Grid-Search RandomForest Classification Score:', grid_accuracy * 100)"
   ]
  },
  {
   "cell_type": "markdown",
   "metadata": {},
   "source": [
    "<a id='Logistic Regression Randomized Searched Params'></a>\n",
    "## Logistic Regression Randomized Searched Params"
   ]
  },
  {
   "cell_type": "code",
   "execution_count": 19,
   "metadata": {
    "scrolled": true
   },
   "outputs": [
    {
     "name": "stdout",
     "output_type": "stream",
     "text": [
      "{'C': [1e-05,\n",
      "       0.100009,\n",
      "       0.20000800000000002,\n",
      "       0.300007,\n",
      "       0.40000600000000003,\n",
      "       0.500005,\n",
      "       0.600004,\n",
      "       0.700003,\n",
      "       0.800002,\n",
      "       0.9000009999999999,\n",
      "       1.0],\n",
      " 'max_iter': [100, 1200, 2300, 3400, 4500, 5600, 6700, 7800, 8900, 10000],\n",
      " 'penalty': ['l1', 'l2']}\n"
     ]
    }
   ],
   "source": [
    "penalty = ['l1', 'l2']\n",
    "C = [float(x) for x in np.linspace(0.00001, 1.0, num = 11)]\n",
    "max_iter = [int(x) for x in np.linspace(100, 10000, num = 10)]\n",
    "class_weight = ['balanced']\n",
    "    \n",
    "# Create the random grid\n",
    "lr_random_grid = {'penalty': penalty,\n",
    "                  'C': C,\n",
    "                  'max_iter': max_iter}\n",
    "\n",
    "pprint(lr_random_grid)"
   ]
  },
  {
   "cell_type": "markdown",
   "metadata": {},
   "source": [
    "<a id='Logistic Regression'></a>\n",
    "## Logistic Regression\n",
    "For Logistic Regression, I have also set a randomized searched parameters and use the same processes with the RandomForest Classifier model. As a result, Logistic regression performs less than the baseline."
   ]
  },
  {
   "cell_type": "code",
   "execution_count": 38,
   "metadata": {},
   "outputs": [
    {
     "name": "stdout",
     "output_type": "stream",
     "text": [
      "Fitting 10 folds for each of 100 candidates, totalling 1000 fits\n",
      "CPU times: user 2min 11s, sys: 956 ms, total: 2min 12s\n",
      "Wall time: 33.2 s\n"
     ]
    },
    {
     "name": "stderr",
     "output_type": "stream",
     "text": [
      "[Parallel(n_jobs=1)]: Done 1000 out of 1000 | elapsed:   33.2s finished\n"
     ]
    }
   ],
   "source": [
    "%%time\n",
    "X = amazon[['text_pol', 'summary_pol','text_subj', 'summary_subj']]\n",
    "y = amazon['rating']\n",
    "\n",
    "X_train, X_test, y_train, y_test = train_test_split(X,y)\n",
    "\n",
    "le = LabelEncoder()\n",
    "le.fit(y)\n",
    "y_train = le.transform(y_train)\n",
    "y_test = le.transform(y_test)\n",
    "\n",
    "lr = LogisticRegression()\n",
    "lr_random = RandomizedSearchCV(estimator = lr,\n",
    "                               param_distributions = lr_random_grid,\n",
    "                               n_iter = 100,\n",
    "                               cv = 10,\n",
    "                               verbose=1,\n",
    "                               random_state=42,\n",
    "                               n_jobs = 1)\n",
    "lr_random.fit(X_train, y_train)"
   ]
  },
  {
   "cell_type": "code",
   "execution_count": 39,
   "metadata": {},
   "outputs": [
    {
     "data": {
      "text/plain": [
       "{'C': 0.100009, 'max_iter': 5600, 'penalty': 'l1'}"
      ]
     },
     "execution_count": 39,
     "metadata": {},
     "output_type": "execute_result"
    }
   ],
   "source": [
    "lr_random.best_params_"
   ]
  },
  {
   "cell_type": "code",
   "execution_count": 40,
   "metadata": {},
   "outputs": [
    {
     "name": "stdout",
     "output_type": "stream",
     "text": [
      "Random Logistic Regression Score: 54.69387755102041\n"
     ]
    }
   ],
   "source": [
    "best_random = lr_random.best_estimator_\n",
    "lr_random_score = best_random.score(X_test, y_test)\n",
    "print('Random Logistic Regression Score:', lr_random_score * 100)"
   ]
  },
  {
   "cell_type": "code",
   "execution_count": 27,
   "metadata": {
    "collapsed": true
   },
   "outputs": [],
   "source": [
    "# Create the parameter grid based on the results of random search \n",
    "param_grid = {'C': [0.100009], 'max_iter': [5600], 'penalty': ['l1']}\n",
    "\n",
    "# Create a based model\n",
    "lr = LogisticRegression()\n",
    "# Instantiate the grid search model\n",
    "grid_search = GridSearchCV(estimator = lr,\n",
    "                           param_grid = param_grid,\n",
    "                           cv = 5,\n",
    "                           n_jobs = -1,\n",
    "                           verbose = 1)"
   ]
  },
  {
   "cell_type": "code",
   "execution_count": 28,
   "metadata": {},
   "outputs": [
    {
     "name": "stdout",
     "output_type": "stream",
     "text": [
      "Fitting 5 folds for each of 1 candidates, totalling 5 fits\n",
      "{'C': 0.100009, 'max_iter': 5600, 'penalty': 'l1'}\n"
     ]
    },
    {
     "name": "stderr",
     "output_type": "stream",
     "text": [
      "[Parallel(n_jobs=-1)]: Done   2 out of   5 | elapsed:    0.1s remaining:    0.1s\n",
      "[Parallel(n_jobs=-1)]: Done   5 out of   5 | elapsed:    0.1s finished\n"
     ]
    }
   ],
   "source": [
    "# Fit the grid search to the data\n",
    "grid_search.fit(X_train, y_train)\n",
    "print(grid_search.best_params_)"
   ]
  },
  {
   "cell_type": "code",
   "execution_count": 29,
   "metadata": {},
   "outputs": [
    {
     "name": "stdout",
     "output_type": "stream",
     "text": [
      "Grid-Search Logistic Regression Score: 54.331065759637184\n"
     ]
    }
   ],
   "source": [
    "best_grid = grid_search.best_estimator_\n",
    "grid_accuracy = best_grid.score(X_test, y_test)\n",
    "print('Grid-Search Logistic Regression Score:', grid_accuracy * 100)"
   ]
  },
  {
   "cell_type": "markdown",
   "metadata": {},
   "source": [
    "<a id='Keras Neural Network'></a>\n",
    "## Keras Neural Network\n",
    "I have set a label encoder to convert target variable into a binary classification problem. This neural network has 3 hidden layers with Relu activation function and random dropout by 50%. The output activation function uses softmax since its a classification problem. Then model complies by using binary cross-entropy as a loss function with Adam optimizer and accuracy metrics. Lastly, I have set an early stop function to prevent unnecessary training by running all epochs. As a result, this neural network is able to predict rating with 82% score on test set data.  "
   ]
  },
  {
   "cell_type": "code",
   "execution_count": 31,
   "metadata": {},
   "outputs": [
    {
     "name": "stdout",
     "output_type": "stream",
     "text": [
      "Train on 6614 samples, validate on 2205 samples\n",
      "Epoch 1/50\n",
      "6614/6614 [==============================] - 1s 143us/step - loss: 0.4721 - acc: 0.8001 - val_loss: 0.4313 - val_acc: 0.8000\n",
      "Epoch 2/50\n",
      "6614/6614 [==============================] - 0s 55us/step - loss: 0.4186 - acc: 0.8061 - val_loss: 0.3935 - val_acc: 0.8061\n",
      "Epoch 3/50\n",
      "6614/6614 [==============================] - 0s 56us/step - loss: 0.4080 - acc: 0.8077 - val_loss: 0.3910 - val_acc: 0.8101\n",
      "Epoch 4/50\n",
      "6614/6614 [==============================] - 0s 57us/step - loss: 0.4057 - acc: 0.8096 - val_loss: 0.3879 - val_acc: 0.8246\n",
      "Epoch 5/50\n",
      "6614/6614 [==============================] - 0s 56us/step - loss: 0.4010 - acc: 0.8098 - val_loss: 0.3862 - val_acc: 0.8307\n",
      "Epoch 6/50\n",
      "6614/6614 [==============================] - 0s 61us/step - loss: 0.3995 - acc: 0.8105 - val_loss: 0.3856 - val_acc: 0.8355\n",
      "Epoch 7/50\n",
      "6614/6614 [==============================] - 0s 67us/step - loss: 0.3992 - acc: 0.8098 - val_loss: 0.3848 - val_acc: 0.8222\n",
      "Epoch 8/50\n",
      "6614/6614 [==============================] - 0s 69us/step - loss: 0.3966 - acc: 0.8121 - val_loss: 0.3828 - val_acc: 0.8354\n",
      "Epoch 9/50\n",
      "6614/6614 [==============================] - 0s 71us/step - loss: 0.3943 - acc: 0.8132 - val_loss: 0.3813 - val_acc: 0.8349\n",
      "Epoch 10/50\n",
      "6614/6614 [==============================] - 0s 56us/step - loss: 0.3924 - acc: 0.8159 - val_loss: 0.3808 - val_acc: 0.8222\n",
      "Epoch 11/50\n",
      "6614/6614 [==============================] - 0s 53us/step - loss: 0.3926 - acc: 0.8160 - val_loss: 0.3807 - val_acc: 0.8372\n",
      "Epoch 12/50\n",
      "6614/6614 [==============================] - 0s 53us/step - loss: 0.3916 - acc: 0.8164 - val_loss: 0.3807 - val_acc: 0.8222\n",
      "Epoch 13/50\n",
      "6614/6614 [==============================] - 0s 53us/step - loss: 0.3904 - acc: 0.8158 - val_loss: 0.3790 - val_acc: 0.8222\n",
      "Epoch 14/50\n",
      "6614/6614 [==============================] - 0s 53us/step - loss: 0.3909 - acc: 0.8150 - val_loss: 0.3793 - val_acc: 0.8222\n",
      "Epoch 00014: early stopping\n",
      "2205/2205 [==============================] - 0s 6us/step\n"
     ]
    }
   ],
   "source": [
    "X = amazon[['text_pol', 'summary_pol','text_subj', 'summary_subj']]\n",
    "y = amazon['rating']\n",
    "\n",
    "X_train, X_test, y_train, y_test = train_test_split(X,y)\n",
    "\n",
    "le = LabelEncoder()\n",
    "le.fit(y)\n",
    "y_train = le.transform(y_train)\n",
    "y_test = le.transform(y_test)\n",
    "\n",
    "y_train = to_categorical(y_train)\n",
    "y_test = to_categorical(y_test)\n",
    "\n",
    "model = Sequential()\n",
    "\n",
    "n_input = X_train.shape[1]\n",
    "n_hidden = n_input\n",
    "n_output = y_train.shape[1]\n",
    "\n",
    "# 1st hidden layer\n",
    "model.add(Dense(n_hidden,\n",
    "                input_dim=n_input,\n",
    "                activation='relu',\n",
    "                kernel_regularizer=regularizers.l2(0.0001)))\n",
    "model.add(Dropout(0.5))\n",
    "# 2nd hidden layer\n",
    "model.add(Dense(n_hidden,\n",
    "                activation='relu'))\n",
    "model.add(Dropout(0.5))\n",
    "# 3rd hidden layer\n",
    "model.add(Dense(n_hidden,\n",
    "                activation='relu'))\n",
    "model.add(Dropout(0.5))\n",
    "# Output\n",
    "model.add(Dense(n_output,\n",
    "                activation='softmax'))\n",
    "# Model Compile\n",
    "model.compile(loss='binary_crossentropy',\n",
    "              optimizer='adam',\n",
    "              metrics=['accuracy'])\n",
    "# Early Stop\n",
    "early_stop = EarlyStopping(monitor='val_loss',\n",
    "                           min_delta=0,\n",
    "                           patience=0,\n",
    "                           verbose=1,\n",
    "                           mode='auto')\n",
    "\n",
    "callbacks_list = [early_stop]\n",
    "\n",
    "history = model.fit(X_train,\n",
    "                    y_train, \n",
    "                    validation_data=(X_test, y_test),\n",
    "                    epochs=50,\n",
    "                    batch_size=None,\n",
    "                    callbacks = callbacks_list,\n",
    "                    verbose=1)\n",
    "\n",
    "score = model.evaluate(X_test, y_test, batch_size=128)"
   ]
  },
  {
   "cell_type": "markdown",
   "metadata": {},
   "source": [
    "<a id='Train and Test Loss'></a>\n",
    "## Train and Test Loss"
   ]
  },
  {
   "cell_type": "code",
   "execution_count": 32,
   "metadata": {
    "scrolled": true
   },
   "outputs": [
    {
     "name": "stdout",
     "output_type": "stream",
     "text": [
      "Keras NeuralNetwork Score: 0.8222223189142015\n"
     ]
    },
    {
     "data": {
      "image/png": "[encoded data removed]",
      "text/plain": [
       "<matplotlib.figure.Figure at 0x1a249964a8>"
      ]
     },
     "metadata": {
      "image/png": {
       "height": 250,
       "width": 380
      }
     },
     "output_type": "display_data"
    }
   ],
   "source": [
    "train_loss = history.history['loss']\n",
    "test_loss = history.history['val_loss']\n",
    "plt.plot(train_loss, label='Training loss')\n",
    "plt.plot(test_loss, label='Testing loss')\n",
    "plt.legend();\n",
    "print(\"Keras NeuralNetwork Score:\", score[1])"
   ]
  },
  {
   "cell_type": "markdown",
   "metadata": {},
   "source": [
    "<a id='Accuracy'></a>\n",
    "## Accuracy"
   ]
  },
  {
   "cell_type": "code",
   "execution_count": 33,
   "metadata": {},
   "outputs": [
    {
     "name": "stdout",
     "output_type": "stream",
     "text": [
      "Keras NeuralNetwork Score: 0.8222223189142015\n"
     ]
    },
    {
     "data": {
      "image/png": "[encoded data removed]",
      "text/plain": [
       "<matplotlib.figure.Figure at 0x1a22636eb8>"
      ]
     },
     "metadata": {
      "image/png": {
       "height": 250,
       "width": 393
      }
     },
     "output_type": "display_data"
    }
   ],
   "source": [
    "plt.plot(history.history['acc']);\n",
    "print(\"Keras NeuralNetwork Score:\", score[1])"
   ]
  },
  {
   "cell_type": "markdown",
   "metadata": {},
   "source": [
    "<a id='Can Text Data Have Better Prediction?'></a>\n",
    "## Can Text Data Have Better Prediction?\n",
    "No, text data do outperformed other models such as RandomForest Classifier and Logistic Regression, it underperformed Neural Network."
   ]
  },
  {
   "cell_type": "code",
   "execution_count": 8,
   "metadata": {
    "collapsed": true
   },
   "outputs": [],
   "source": [
    "# Function to use to check to model score\n",
    "def evaluate(model, X_test, y_test):\n",
    "    predictions = model.predict(X_test)\n",
    "    errors = abs(predictions - y_test)\n",
    "    mape = 100 * np.mean(errors / y_test)\n",
    "    accuracy = 100 - mape\n",
    "    print('Model Performance')\n",
    "    print('Average Error: {:0.4f} degrees.'.format(np.mean(errors)))\n",
    "    print('Accuracy = {:0.2f}%.'.format(accuracy))\n",
    "    return accuracy"
   ]
  },
  {
   "cell_type": "code",
   "execution_count": 32,
   "metadata": {},
   "outputs": [
    {
     "name": "stdout",
     "output_type": "stream",
     "text": [
      "Fitting 5 folds for each of 100 candidates, totalling 500 fits\n"
     ]
    },
    {
     "name": "stderr",
     "output_type": "stream",
     "text": [
      "[Parallel(n_jobs=1)]: Done 500 out of 500 | elapsed: 163.7min finished\n"
     ]
    },
    {
     "name": "stdout",
     "output_type": "stream",
     "text": [
      "CPU times: user 2h 39min 49s, sys: 5min 27s, total: 2h 45min 16s\n",
      "Wall time: 2h 45min 19s\n"
     ]
    }
   ],
   "source": [
    "%%time\n",
    "X = amazon['review_summary']\n",
    "y = amazon['rating']\n",
    "\n",
    "X_train, X_test, y_train, y_test = train_test_split(X,y)\n",
    "\n",
    "le = LabelEncoder()\n",
    "le.fit(y)\n",
    "y_train = le.transform(y_train)\n",
    "y_test = le.transform(y_test)\n",
    "\n",
    "tfidf = TfidfVectorizer(stop_words='english',\n",
    "                     ngram_range=(1, 3),\n",
    "                     strip_accents='unicode')\n",
    "tfidf.fit(X_train)\n",
    "           \n",
    "Xs_train = pd.DataFrame(tfidf.transform(X_train).todense(),columns=tfidf.get_feature_names())\n",
    "Xs_test = pd.DataFrame(tfidf.transform(X_test).todense(),columns=tfidf.get_feature_names())\n",
    "\n",
    "rf = RandomForestClassifier()\n",
    "text_rf_random = RandomizedSearchCV(estimator = rf,\n",
    "                                   param_distributions = random_grid,\n",
    "                                   n_iter = 100,\n",
    "                                   cv = 5,\n",
    "                                   verbose = 1,\n",
    "                                   random_state = 42,\n",
    "                                   n_jobs = 1)\n",
    "text_rf_random.fit(Xs_train, y_train)"
   ]
  },
  {
   "cell_type": "code",
   "execution_count": 33,
   "metadata": {},
   "outputs": [
    {
     "name": "stdout",
     "output_type": "stream",
     "text": [
      "RandomForest Classifier Score: 56.39269406392694\n"
     ]
    }
   ],
   "source": [
    "best_random = text_rf_random.best_estimator_\n",
    "random_accuracy = best_random.score(Xs_test, y_test)\n",
    "print('RandomForest Classifier Score:', random_accuracy * 100)"
   ]
  }
 ],
 "metadata": {
  "kernelspec": {
   "display_name": "Python 3",
   "language": "python",
   "name": "python3"
  },
  "language_info": {
   "codemirror_mode": {
    "name": "ipython",
    "version": 3
   },
   "file_extension": ".py",
   "mimetype": "text/x-python",
   "name": "python",
   "nbconvert_exporter": "python",
   "pygments_lexer": "ipython3",
   "version": "3.6.3"
  }
 },
 "nbformat": 4,
 "nbformat_minor": 2
}
